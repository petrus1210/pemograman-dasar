{
  "nbformat": 4,
  "nbformat_minor": 0,
  "metadata": {
    "colab": {
      "provenance": [],
      "authorship_tag": "ABX9TyMSBm8Zoo1qTSbKyovnsQtV",
      "include_colab_link": true
    },
    "kernelspec": {
      "name": "python3",
      "display_name": "Python 3"
    },
    "language_info": {
      "name": "python"
    }
  },
  "cells": [
    {
      "cell_type": "markdown",
      "metadata": {
        "id": "view-in-github",
        "colab_type": "text"
      },
      "source": [
        "<a href=\"https://colab.research.google.com/github/petrus1210/pemograman-dasar/blob/main/praktikum%204.ipynb\" target=\"_parent\"><img src=\"https://colab.research.google.com/assets/colab-badge.svg\" alt=\"Open In Colab\"/></a>"
      ]
    },
    {
      "cell_type": "code",
      "execution_count": 1,
      "metadata": {
        "colab": {
          "base_uri": "https://localhost:8080/"
        },
        "id": "7WhYuhe_HvCL",
        "outputId": "b9768013-0d50-4ed9-b201-9f60895f0c10"
      },
      "outputs": [
        {
          "output_type": "stream",
          "name": "stdout",
          "text": [
            "pengunjung adalah orang dewasa\n"
          ]
        }
      ],
      "source": [
        "umur:int=20\n",
        "if umur> 17:\n",
        "  print (\"pengunjung adalah orang dewasa\")"
      ]
    },
    {
      "cell_type": "code",
      "source": [
        "username = input (\"masukkann username: \")\n",
        "password = input (\"masukkan password: \")\n",
        "if username ==\"petrus\" and password == \"2004\":\n",
        "  print(\"login berhasil\")\n",
        "else:\n",
        "  print(\"login gagal\")\n",
        ""
      ],
      "metadata": {
        "colab": {
          "base_uri": "https://localhost:8080/"
        },
        "id": "eDHcYVf3JrKd",
        "outputId": "8100bad0-a7c7-43aa-e5a9-e2f620c7ec6d"
      },
      "execution_count": 12,
      "outputs": [
        {
          "output_type": "stream",
          "name": "stdout",
          "text": [
            "masukkann username: petrus\n",
            "masukkan password: 2004\n",
            "login berhasil\n"
          ]
        }
      ]
    },
    {
      "cell_type": "code",
      "source": [
        "total_belanja= input (\"total belanja :rp \")\n",
        "bayar =int (total_belanja)\n",
        "if int (total_belanja) > 100000:\n",
        "  print(\"selamat karena belanja > rp. 100.000 anda mendapatkan voucher makan \")\n",
        "  print(\"dan diskon 5%\")\n",
        "  diskon = int(total_belanja )* 5/100\n",
        "  bayar = int(total_belanja )- diskon\n",
        "  print(\"total yang harus dibayar:rp %s\" % bayar )\n",
        "  print(\"terima kasih telah berbelanja ditoko kami\")\n",
        "  print(\"kami tunggu kunjungan anda selanjutnya \")"
      ],
      "metadata": {
        "colab": {
          "base_uri": "https://localhost:8080/"
        },
        "id": "m2IyfkfcKlgh",
        "outputId": "a193ddb9-f087-4c8d-f7ed-e0b887aaad0a"
      },
      "execution_count": 13,
      "outputs": [
        {
          "output_type": "stream",
          "name": "stdout",
          "text": [
            "total belanja :rp 500000\n",
            "selamat karena belanja > rp. 100.000 anda mendapatkan voucher makan \n",
            "dan diskon 5%\n",
            "total yang harus dibayar:rp 475000.0\n",
            "terima kasih telah berbelanja ditoko kami\n",
            "kami tunggu kunjungan anda selanjutnya \n"
          ]
        }
      ]
    },
    {
      "cell_type": "code",
      "source": [
        "ada_notifikasi_baru:bool = True\n",
        "if ada_notifikasi_baru:\n",
        "  print(\"anda memiliki notifikasi baru! \")\n",
        ""
      ],
      "metadata": {
        "colab": {
          "base_uri": "https://localhost:8080/"
        },
        "id": "aiw_yQaBMD9t",
        "outputId": "8a7c0753-7681-47b3-cfa4-192007cbb486"
      },
      "execution_count": 14,
      "outputs": [
        {
          "output_type": "stream",
          "name": "stdout",
          "text": [
            "anda memiliki notifikasi baru! \n"
          ]
        }
      ]
    },
    {
      "cell_type": "code",
      "source": [
        "umur = input(\"berapa umur kamu: \")\n",
        "if int(umur) >= 18:\n",
        "  print(\"kamu boleh membuat SIM \")\n",
        "else:\n",
        "    print(\"kamu belum boleh membuat SIM \")"
      ],
      "metadata": {
        "colab": {
          "base_uri": "https://localhost:8080/"
        },
        "id": "WRHBrNadMI7-",
        "outputId": "a230866c-09c4-457b-bd8e-7f8321b6a0e6"
      },
      "execution_count": 15,
      "outputs": [
        {
          "output_type": "stream",
          "name": "stdout",
          "text": [
            "berapa umur kamu: 20\n",
            "kamu boleh membuat SIM \n"
          ]
        }
      ]
    },
    {
      "cell_type": "code",
      "source": [
        "total_belanja = 60000\n",
        "if total_belanja > 20000:\n",
        "    diskon = total_belanja * 0.10\n",
        "    total_bayar = total_belanja - diskon\n",
        "    print(f\"anda mendapat diskon! total bayar : RP {total_bayar }\")\n",
        "else:\n",
        "    print(f\" total bayar:RP {total_belanja}\")"
      ],
      "metadata": {
        "colab": {
          "base_uri": "https://localhost:8080/"
        },
        "id": "wsRHq4PfMj-4",
        "outputId": "d6aa762a-e950-412e-d05c-92b2c2bbabc8"
      },
      "execution_count": 16,
      "outputs": [
        {
          "output_type": "stream",
          "name": "stdout",
          "text": [
            "anda mendapat diskon! total bayar : RP 54000.0\n"
          ]
        }
      ]
    },
    {
      "cell_type": "code",
      "source": [
        "angka =int(input(\"masukkan bilangan\"))\n",
        "if angka % 2 == 0:\n",
        "  print(\"bilangan genap\")\n",
        "else:\n",
        "   print(\"bilangan ganjil\")"
      ],
      "metadata": {
        "colab": {
          "base_uri": "https://localhost:8080/"
        },
        "id": "fQzDCL1RMkDh",
        "outputId": "e88cacd5-9f6b-4c73-8695-dc143743373c"
      },
      "execution_count": 17,
      "outputs": [
        {
          "output_type": "stream",
          "name": "stdout",
          "text": [
            "masukkan bilangan2\n",
            "bilangan genap\n"
          ]
        }
      ]
    },
    {
      "cell_type": "code",
      "source": [
        "nilai = 95\n",
        "if nilai >= 80:\n",
        "  print(\"luar biasa! nilai A\")\n",
        "elif nilai >=75:\n",
        "  print(\"bagus nilai B\")\n",
        "elif nilai >=65:\n",
        "  ptint(\"cukup.nilai C\")\n",
        "else:\n",
        "  print(\"nilai kurang, perlu belajar lebih giat \")\n",
        ""
      ],
      "metadata": {
        "colab": {
          "base_uri": "https://localhost:8080/"
        },
        "id": "9zjI6Ij5NZXh",
        "outputId": "b8a8cec3-e3c3-419e-e2ef-d08d600b9313"
      },
      "execution_count": 18,
      "outputs": [
        {
          "output_type": "stream",
          "name": "stdout",
          "text": [
            "luar biasa! nilai A\n"
          ]
        }
      ]
    },
    {
      "cell_type": "code",
      "source": [
        "hari: str = \"sabtu\"\n",
        "if hari== \"sabtu\" or hari == \"minggu\":\n",
        "  diskon: float = 0.20\n",
        "  print(f\"selamat! anda mendapat diskon akhir pekan sebesar {diskon*100}%.\")\n",
        "elif hari == \"jumat\":\n",
        "  diskon: float = 0.10\n",
        "  print(f\"diskon spesial jumat anda mendapat potongan {diskon*100}%.\")\n",
        "else:\n",
        "  diskon: float =0.05\n",
        "  prinbt(f\"anda mendapat diskon hari biasa sebesar {diskon*100}%.\")\n",
        ""
      ],
      "metadata": {
        "colab": {
          "base_uri": "https://localhost:8080/"
        },
        "id": "-3Z65thsNcxU",
        "outputId": "358288e1-f417-4a50-9d4a-de7f16329883"
      },
      "execution_count": 19,
      "outputs": [
        {
          "output_type": "stream",
          "name": "stdout",
          "text": [
            "selamat! anda mendapat diskon akhir pekan sebesar 20.0%.\n"
          ]
        }
      ]
    },
    {
      "cell_type": "code",
      "source": [
        "rupiah = int(input(\"masukkan jumlah uang (RP):\"))\n",
        "print(\"1 dollar (USD)\")\n",
        "print(\"2 euro (EUR)\")\n",
        "print(\"3yen(JPY)\")\n",
        "pilih = int(input(\"pilih konversi 1/2/3):\"))\n",
        "if pilih == 1:\n",
        "    print(\"dalam dolar:\",rupiah/ 15000)\n",
        "elif pilih == 2:\n",
        "    print(\"dalam euro\",rupiah / 16000)\n",
        "elif pilih == 3:\n",
        "    print(\"dalam yen\",rupiah /120)\n",
        "else:\n",
        "    print(\"pilihan tidak valid\")"
      ],
      "metadata": {
        "colab": {
          "base_uri": "https://localhost:8080/"
        },
        "id": "eYL3kIzoSwMT",
        "outputId": "61144d2c-338f-4150-fe5a-5201e3a1bb20"
      },
      "execution_count": 21,
      "outputs": [
        {
          "output_type": "stream",
          "name": "stdout",
          "text": [
            "masukkan jumlah uang (RP):500000\n",
            "1 dollar (USD)\n",
            "2 euro (EUR)\n",
            "3yen(JPY)\n",
            "pilih konversi 1/2/3):2\n",
            "dalam euro 31.25\n"
          ]
        }
      ]
    }
  ]
}