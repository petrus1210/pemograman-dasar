{
  "nbformat": 4,
  "nbformat_minor": 0,
  "metadata": {
    "colab": {
      "provenance": [],
      "authorship_tag": "ABX9TyM0YGs+a+03A5tEJ4Czs9dO",
      "include_colab_link": true
    },
    "kernelspec": {
      "name": "python3",
      "display_name": "Python 3"
    },
    "language_info": {
      "name": "python"
    }
  },
  "cells": [
    {
      "cell_type": "markdown",
      "metadata": {
        "id": "view-in-github",
        "colab_type": "text"
      },
      "source": [
        "<a href=\"https://colab.research.google.com/github/petrus1210/pemograman-dasar/blob/main/PERTEMUAN_6.ipynb\" target=\"_parent\"><img src=\"https://colab.research.google.com/assets/colab-badge.svg\" alt=\"Open In Colab\"/></a>"
      ]
    },
    {
      "cell_type": "code",
      "execution_count": 1,
      "metadata": {
        "id": "AVUSzcRzOXVj",
        "colab": {
          "base_uri": "https://localhost:8080/"
        },
        "outputId": "92404d41-f391-4166-b7aa-3804d2d1d9c5"
      },
      "outputs": [
        {
          "output_type": "stream",
          "name": "stdout",
          "text": [
            "===== BIODATA PRAKTIKAN =====\n",
            "Nama        : PETRUS RANDANU\n",
            "NIM         : 4232411007\n",
            "Prodi       : REKAYASA PEMBANGKIT ENERGI\n",
            "Kelas       : MALAM A\n",
            "Hobi        : BADMINTON DAN NGOPI \n",
            "==============================\n"
          ]
        }
      ],
      "source": [
        "def Biodata():\n",
        "    \"\"\"Menampilkan biodata lengkap praktikan.\"\"\"\n",
        "    print(\"===== BIODATA PRAKTIKAN =====\")\n",
        "    print(\"Nama        : PETRUS RANDANU\")\n",
        "    print(\"NIM         : 4232411007\")\n",
        "    print(\"Prodi       : REKAYASA PEMBANGKIT ENERGI\")\n",
        "    print(\"Kelas       : MALAM A\")\n",
        "    print(\"Hobi        : BADMINTON DAN NGOPI \")\n",
        "    print(\"==============================\")\n",
        "\n",
        "Biodata()"
      ]
    },
    {
      "cell_type": "code",
      "source": [
        "def hitung_volume_balok(panjang, lebar, tinggi):\n",
        "    \"\"\"Menghitung volume balok dari panjang, lebar, dan tinggi.\"\"\"\n",
        "    return panjang * lebar * tinggi\n",
        "\n",
        "p = 12\n",
        "l = 10\n",
        "t = 4\n",
        "print(f\"Volume balok dengan panjang {p}, lebar {l}, dan tinggi {t} adalah: {hitung_volume_balok(p, l, t)}\")"
      ],
      "metadata": {
        "colab": {
          "base_uri": "https://localhost:8080/"
        },
        "id": "Ucw-S53VZbE5",
        "outputId": "4cf4e284-5942-4f49-9ed6-2456b61ee2dd"
      },
      "execution_count": 2,
      "outputs": [
        {
          "output_type": "stream",
          "name": "stdout",
          "text": [
            "Volume balok dengan panjang 12, lebar 10, dan tinggi 4 adalah: 480\n"
          ]
        }
      ]
    },
    {
      "cell_type": "code",
      "source": [
        "def hitung_rata_rata(data_nilai):\n",
        "    \"\"\"Menghitung rata-rata dari list angka menggunakan perulangan for dan pengecekan nilai.\"\"\"\n",
        "    total = 0\n",
        "    jumlah_data = 0\n",
        "\n",
        "    for nilai in data_nilai:\n",
        "        if 0 <= nilai <= 100:\n",
        "            total += nilai\n",
        "            jumlah_data += 1\n",
        "        else:\n",
        "            print(f\"Nilai {nilai} tidak valid dan tidak dihitung dalam rata-rata.\")\n",
        "\n",
        "    if jumlah_data > 0:\n",
        "        return total / jumlah_data\n",
        "    return 0\n",
        "\n",
        "nilai_praktikan = [89, 82, 96, 78, 99, 100, -12]\n",
        "print(f\"Nilai rata-rata kelas adalah: {hitung_rata_rata(nilai_praktikan)}\")\n"
      ],
      "metadata": {
        "colab": {
          "base_uri": "https://localhost:8080/"
        },
        "id": "rslxtCyaZmFq",
        "outputId": "4cb21e31-603f-4d43-a14f-4d16cf4ac391"
      },
      "execution_count": 4,
      "outputs": [
        {
          "output_type": "stream",
          "name": "stdout",
          "text": [
            "Nilai -12 tidak valid dan tidak dihitung dalam rata-rata.\n",
            "Nilai rata-rata kelas adalah: 90.66666666666667\n"
          ]
        }
      ]
    },
    {
      "cell_type": "code",
      "source": [
        "def tentukan_predikat(skor):\n",
        "    \"\"\"Menentukan predikat (A, B, C, D, E) berdasarkan skor dengan pengecekan tipe data.\"\"\"\n",
        "\n",
        "    if not isinstance(skor, (int, float)):\n",
        "        return \"Error: Input harus berupa angka.\"\n",
        "\n",
        "    if skor >= 90:\n",
        "        return \"A\"\n",
        "    elif skor >= 70:\n",
        "        return \"B\"\n",
        "    elif skor >= 60:\n",
        "        return \"C\"\n",
        "    elif skor >= 40:\n",
        "        return \"D\"\n",
        "    elif skor >= 0:\n",
        "        return \"E\"\n",
        "    else:\n",
        "        return \"Error: Skor tidak boleh negatif.\"\n",
        "\n",
        "print(f\"Skor 75 mendapat predikat: {tentukan_predikat(96)}\")\n",
        "print(f\"Skor 48 mendapat predikat: {tentukan_predikat(72)}\")\n",
        "print(f\"Skor 40 mendapat predikat: {tentukan_predikat(40)}\")\n",
        "print(f\"Skor -10 mendapat predikat: {tentukan_predikat(-10)}\")\n",
        ""
      ],
      "metadata": {
        "colab": {
          "base_uri": "https://localhost:8080/"
        },
        "id": "hRWdjEQgZ7Gx",
        "outputId": "24a5d7f8-bdbd-4f00-991b-bffce8f797a1"
      },
      "execution_count": 5,
      "outputs": [
        {
          "output_type": "stream",
          "name": "stdout",
          "text": [
            "Skor 75 mendapat predikat: A\n",
            "Skor 48 mendapat predikat: B\n",
            "Skor 40 mendapat predikat: D\n",
            "Skor -10 mendapat predikat: Error: Skor tidak boleh negatif.\n"
          ]
        }
      ]
    },
    {
      "cell_type": "code",
      "source": [
        "def hitung_faktorial(n):\n",
        "    \"\"\"Menghitung faktorial dari bilangan positif n dengan penanganan kasus khusus.\"\"\"\n",
        "\n",
        "    if n < 0:\n",
        "        return \"Error: Faktorial tidak terdefinisi untuk bilangan negatif.\"\n",
        "    elif n == 0:\n",
        "        return 1\n",
        "\n",
        "    hasil = 1\n",
        "\n",
        "    while n > 1:\n",
        "        hasil *= n\n",
        "        n -= 1\n",
        "    return hasil\n",
        "\n",
        "bilangan_n = 5\n",
        "print(f\"Faktorial dari {bilangan_n} adalah: {hitung_faktorial(bilangan_n)}\")\n",
        "print(f\"Faktorial dari 0 adalah: {hitung_faktorial(18)}\")\n",
        "print(f\"Faktorial dari -3 adalah: {hitung_faktorial(6)}\")"
      ],
      "metadata": {
        "colab": {
          "base_uri": "https://localhost:8080/"
        },
        "id": "HgpvaU5EaM3f",
        "outputId": "b2d84ccd-1ab6-42ec-de41-290215ed8ba7"
      },
      "execution_count": 6,
      "outputs": [
        {
          "output_type": "stream",
          "name": "stdout",
          "text": [
            "Faktorial dari 5 adalah: 120\n",
            "Faktorial dari 0 adalah: 6402373705728000\n",
            "Faktorial dari -3 adalah: 720\n"
          ]
        }
      ]
    },
    {
      "cell_type": "code",
      "source": [
        "def analisis_suhu(data_suhu, batas_panas=35, batas_dingin=15):\n",
        "    \"\"\"Menghitung jumlah hari Panas dan Dingin dari data_suhu dengan batas suhu yang dapat diatur.\"\"\"\n",
        "\n",
        "    panas_count = 0\n",
        "    dingin_count = 0\n",
        "\n",
        "    for suhu in data_suhu:\n",
        "        if suhu >= batas_panas:\n",
        "            panas_count += 1\n",
        "        elif suhu <= batas_dingin:\n",
        "            dingin_count += 1\n",
        "\n",
        "    return panas_count, dingin_count\n",
        "\n",
        "suhu_mingguan = [36, 30, 26, 14, 38, 16, 22]\n",
        "jumlah_panas, jumlah_dingin = analisis_suhu(suhu_mingguan)\n",
        "print(f\"Jumlah hari Panas (>=35°C): {jumlah_panas}\")\n",
        "print(f\"Jumlah hari Dingin (<=15°C): {jumlah_dingin}\")\n",
        "\n",
        "jumlah_panas2, jumlah_dingin2 = analisis_suhu(suhu_mingguan, batas_panas=33, batas_dingin=18)\n",
        "print(f\"\\nDengan batas baru (Panas>=37, Dingin<=16):\")\n",
        "print(f\"Hari Panas: {jumlah_panas2}\")\n",
        "print(f\"Hari Dingin: {jumlah_dingin2}\")"
      ],
      "metadata": {
        "colab": {
          "base_uri": "https://localhost:8080/"
        },
        "id": "neA8NEmGaXCg",
        "outputId": "4ea7cbb3-7b6d-4a27-84c9-9361cfedb2a7"
      },
      "execution_count": 9,
      "outputs": [
        {
          "output_type": "stream",
          "name": "stdout",
          "text": [
            "Jumlah hari Panas (>=35°C): 2\n",
            "Jumlah hari Dingin (<=15°C): 1\n",
            "\n",
            "Dengan batas baru (Panas>=37, Dingin<=16):\n",
            "Hari Panas: 2\n",
            "Hari Dingin: 2\n"
          ]
        }
      ]
    }
  ]
}