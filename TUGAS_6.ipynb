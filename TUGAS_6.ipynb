{
  "nbformat": 4,
  "nbformat_minor": 0,
  "metadata": {
    "colab": {
      "provenance": [],
      "authorship_tag": "ABX9TyN7aufWY58/Tx8ik/PLo/sO",
      "include_colab_link": true
    },
    "kernelspec": {
      "name": "python3",
      "display_name": "Python 3"
    },
    "language_info": {
      "name": "python"
    }
  },
  "cells": [
    {
      "cell_type": "markdown",
      "metadata": {
        "id": "view-in-github",
        "colab_type": "text"
      },
      "source": [
        "<a href=\"https://colab.research.google.com/github/petrus1210/pemograman-dasar/blob/main/TUGAS_6.ipynb\" target=\"_parent\"><img src=\"https://colab.research.google.com/assets/colab-badge.svg\" alt=\"Open In Colab\"/></a>"
      ]
    },
    {
      "cell_type": "code",
      "source": [
        "def sapa():\n",
        "    print(\"Halo! Selamat datang di Python.\")\n",
        "\n",
        "# Pemanggilan fungsi\n",
        "sapa()\n",
        ""
      ],
      "metadata": {
        "colab": {
          "base_uri": "https://localhost:8080/"
        },
        "id": "MMahhpywbWr4",
        "outputId": "e22d5ab6-e0b5-44f9-fa4b-af92eb860070"
      },
      "execution_count": 1,
      "outputs": [
        {
          "output_type": "stream",
          "name": "stdout",
          "text": [
            "Halo! Selamat datang di Python.\n"
          ]
        }
      ]
    },
    {
      "cell_type": "code",
      "source": [
        "def analisis_suhu():\n",
        "    # Dictionary berisi data suhu harian (non-primitif)\n",
        "    suhu_harian = {\n",
        "        \"Senin\": 33,\n",
        "        \"Selasa\": 30,\n",
        "        \"Rabu\": 27,\n",
        "        \"Kamis\": 18,\n",
        "        \"Jumat\": 33,\n",
        "        \"Sabtu\": 23,\n",
        "        \"Minggu\": 26\n",
        "    }\n",
        "\n",
        "    total = 0               # int (primitif)\n",
        "    suhu_tertinggi = -999   # inisialisasi suhu tinggi\n",
        "    suhu_terendah = 999     # inisialisasi suhu rendah\n",
        "    hari_tertinggi = \"\"\n",
        "    hari_terendah = \"\"\n",
        "\n",
        "    # Perulangan for untuk menghitung total dan mencari suhu ekstrem\n",
        "    for hari, suhu in suhu_harian.items():\n",
        "        total += suhu\n",
        "\n",
        "        if suhu > suhu_tertinggi:\n",
        "            suhu_tertinggi = suhu\n",
        "            hari_tertinggi = hari\n",
        "        if suhu < suhu_terendah:\n",
        "            suhu_terendah = suhu\n",
        "            hari_terendah = hari\n",
        "\n",
        "    # Hitung rata-rata suhu\n",
        "    rata_rata = total / len(suhu_harian)\n",
        "\n",
        "    # Menampilkan hasil\n",
        "    print(\"=== HASIL ANALISIS SUHU HARIAN ===\")\n",
        "    print(\"Data suhu:\", suhu_harian)\n",
        "    print(f\"Rata-rata suhu: {rata_rata}°C\")\n",
        "    print(f\"Suhu tertinggi: {suhu_tertinggi}°C pada hari {hari_tertinggi}\")\n",
        "    print(f\"Suhu terendah: {suhu_terendah}°C pada hari {hari_terendah}\")\n",
        "# Tampilkan data suhu satu per satu menggunakan while loop\n",
        "    print(\"\\n=== DAFTAR SUHU PER HARI ===\")\n",
        "    hari_list = list(suhu_harian.keys())\n",
        "    i = 0\n",
        "    while i < len(hari_list):\n",
        "        print(f\"{hari_list[i]}: {suhu_harian[hari_list[i]]}°C\")\n",
        "        i += 1\n",
        "\n",
        "\n",
        "# Pemanggilan fungsi\n",
        "analisis_suhu()"
      ],
      "metadata": {
        "colab": {
          "base_uri": "https://localhost:8080/"
        },
        "id": "S_yOXnLqbqk7",
        "outputId": "435ca80c-4d19-4ede-8ed2-316935ab251b"
      },
      "execution_count": 2,
      "outputs": [
        {
          "output_type": "stream",
          "name": "stdout",
          "text": [
            "=== HASIL ANALISIS SUHU HARIAN ===\n",
            "Data suhu: {'Senin': 33, 'Selasa': 30, 'Rabu': 27, 'Kamis': 18, 'Jumat': 33, 'Sabtu': 23, 'Minggu': 26}\n",
            "Rata-rata suhu: 27.142857142857142°C\n",
            "Suhu tertinggi: 33°C pada hari Senin\n",
            "Suhu terendah: 18°C pada hari Kamis\n",
            "\n",
            "=== DAFTAR SUHU PER HARI ===\n",
            "Senin: 33°C\n",
            "Selasa: 30°C\n",
            "Rabu: 27°C\n",
            "Kamis: 18°C\n",
            "Jumat: 33°C\n",
            "Sabtu: 23°C\n",
            "Minggu: 26°C\n"
          ]
        }
      ]
    }
  ]
}