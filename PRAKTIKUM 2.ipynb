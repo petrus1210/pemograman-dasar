{
  "cells": [
    {
      "cell_type": "markdown",
      "metadata": {
        "id": "view-in-github",
        "colab_type": "text"
      },
      "source": [
        "<a href=\"https://colab.research.google.com/github/petrus1210/pemograman-dasar/blob/main/PRAKTIKUM.ipynb\" target=\"_parent\"><img src=\"https://colab.research.google.com/assets/colab-badge.svg\" alt=\"Open In Colab\"/></a>"
      ]
    },
    {
      "cell_type": "code",
      "execution_count": null,
      "metadata": {
        "colab": {
          "background_save": true,
          "base_uri": "https://localhost:8080/"
        },
        "id": "jeTNvy6VBEmr",
        "outputId": "48ae0fd2-4ee9-4902-fd6b-0b2ac01476f2"
      },
      "outputs": [
        {
          "name": "stdout",
          "output_type": "stream",
          "text": [
            "43\n"
          ]
        }
      ],
      "source": [
        "# deklarasi variabel list\n",
        "numbers = [23, 43, 15, 34]\n",
        "# cara mengakses elemen dalam variabel list\n",
        "numbers [0] # 23\n",
        "numbers [1] # 43\n",
        "numbers [2] # 15\n",
        "numbers [3] # 34\n",
        "#cara mengubah nilai elemen dalam variabel list\n",
        "numbers [2] #51\n",
        "numbers [2] #51\n",
        "\n",
        "print (numbers[1]) #lakukan untuk setiap indexnya dan lihat hasilnya\n",
        "\n",
        "\n"
      ]
    },
    {
      "cell_type": "code",
      "execution_count": null,
      "metadata": {
        "colab": {
          "base_uri": "https://localhost:8080/"
        },
        "id": "H3wPoGizHHzX",
        "outputId": "788b1448-ef02-4376-9d82-cc707fb60224"
      },
      "outputs": [
        {
          "data": {
            "text/plain": [
              "3"
            ]
          },
          "execution_count": 9,
          "metadata": {},
          "output_type": "execute_result"
        }
      ],
      "source": [
        "# deklarasi variabel list numbers\n",
        "numbers = [1, 2, 3]\n",
        "\n",
        "# menambänkan elemen di indeks ke-4\n",
        "numbers.insert(4, 5)    # [1, 2, 3, 5]\n",
        "\n",
        "# mengubah elemen di indeks ke-4\n",
        "numbers[3] = 4    # [1; 2, 3, 4]\n",
        "\n",
        "# menghapus elemen di indeks ke-2\n",
        "numbers. pop(2)    # [1, 2, 4]\n",
        "\n",
        "#print lalu lihat hasilya\n",
        "\n"
      ]
    },
    {
      "cell_type": "code",
      "execution_count": null,
      "metadata": {
        "id": "-MAAaYfeHxGn"
      },
      "outputs": [],
      "source": [
        "# deklarasi variabel list numbers\n",
        "\n",
        "numbers = [1, 2, 3]\n",
        "\n",
        "# menambahkan elemen di indeks ke-4\n",
        "\n",
        "numbers.insert(4, 5) # [1, 2, 3, 5]\n",
        "\n",
        "# mengubah elemen di indeks ke-4 numbers[3] = 4 # [1, 2, 3, 4]\n",
        "\n",
        "# menghapus elemen di indeks ke-2 numbers.pop(2) # [1, 2, 4]\n",
        "\n",
        "#print setiap hasil perubahan dan amati hasilnya"
      ]
    },
    {
      "cell_type": "code",
      "execution_count": null,
      "metadata": {
        "colab": {
          "base_uri": "https://localhost:8080/",
          "height": 36
        },
        "id": "XJ1vxqK1CSMm",
        "outputId": "8af3da34-7208-4c7e-b32b-5a254cfa1dd4"
      },
      "outputs": [
        {
          "data": {
            "application/vnd.google.colaboratory.intrinsic+json": {
              "type": "string"
            },
            "text/plain": [
              "'Kamar tidur'"
            ]
          },
          "execution_count": 7,
          "metadata": {},
          "output_type": "execute_result"
        }
      ],
      "source": [
        "# deklarasi variabel list\n",
        "\n",
        "myList = [1, \"Rumah\", 4.5, True, [\"Kamar mandi\", \"Kamar tidur\"]]\n",
        "\n",
        "#cara mengakses elemen dalam variabel list\n",
        "\n",
        "myList[0] #1\n",
        "\n",
        "myList[1] # \"Rumah\"\n",
        "\n",
        "myList[3] # True\n",
        "\n",
        "myList[4] # [\"Kamar mandi\", \"Kamar tidur\"]\n",
        "\n",
        "#cara mengakses elemen dalam sublist\n",
        "\n",
        "myList[4][0] # \"Kamar mandi\"\n",
        "\n",
        "myList[4][1] # \"Kamar tidur\"\n",
        "\n",
        "#lakuan print lalu amati hasilnya"
      ]
    },
    {
      "cell_type": "code",
      "execution_count": null,
      "metadata": {
        "colab": {
          "base_uri": "https://localhost:8080/"
        },
        "id": "j2BN0PLuDOlI",
        "outputId": "0d29ff34-b45d-4d59-ce36-674eeb87c9a9"
      },
      "outputs": [
        {
          "name": "stdout",
          "output_type": "stream",
          "text": [
            "['laptop', 'mouse', 'keyboard']\n",
            "['monitor', 'mouse', 'mousepad', 'keyboard', 'webcam', 'microphone']\n",
            "['laptop', 'monitor', 'mouse']\n"
          ]
        }
      ],
      "source": [
        "x = [\"laptop\", \"monitor\", \"mouse\", \"mousepad\", \"keyboard\", \"webcam\", \"microphone\"]\n",
        "\n",
        "print(x[0:5:2])\n",
        "\n",
        "print(x[1:])\n",
        "\n",
        "print(x[:3])"
      ]
    },
    {
      "cell_type": "code",
      "execution_count": null,
      "metadata": {
        "colab": {
          "base_uri": "https://localhost:8080/"
        },
        "id": "Xxx1-nLrGI-j",
        "outputId": "e9e5dce4-3be9-4fcb-aab8-edf396b57250"
      },
      "outputs": [
        {
          "name": "stdout",
          "output_type": "stream",
          "text": [
            "<class 'tuple'>\n"
          ]
        }
      ],
      "source": [
        "x = (1, \"Polibatam\", 1+3j)\n",
        "\n",
        "print(type(x))\n",
        "\n"
      ]
    },
    {
      "cell_type": "code",
      "execution_count": null,
      "metadata": {
        "colab": {
          "base_uri": "https://localhost:8080/"
        },
        "id": "6KMcmmtMH0j4",
        "outputId": "229c94f1-4246-4c74-8e81-ca97aaa76783"
      },
      "outputs": [
        {
          "name": "stdout",
          "output_type": "stream",
          "text": [
            "program\n",
            "(5, 'program', (1+3j))\n"
          ]
        }
      ],
      "source": [
        "x = (5, 'program', 1+3j)\n",
        "\n",
        "print (x[1])\n",
        "\n",
        "print (x[0:3])\n",
        "\n"
      ]
    },
    {
      "cell_type": "code",
      "execution_count": null,
      "metadata": {
        "colab": {
          "base_uri": "https://localhost:8080/",
          "height": 193
        },
        "id": "MFvsd1vrBFH1",
        "outputId": "cb96abec-98e3-452b-c65c-ffa7b3c389fb"
      },
      "outputs": [
        {
          "ename": "TypeError",
          "evalue": "'tuple' object does not support item assignment",
          "output_type": "error",
          "traceback": [
            "\u001b[0;31m---------------------------------------------------------------------------\u001b[0m",
            "\u001b[0;31mTypeError\u001b[0m                                 Traceback (most recent call last)",
            "\u001b[0;32m/tmp/ipython-input-1573509804.py\u001b[0m in \u001b[0;36m<cell line: 0>\u001b[0;34m()\u001b[0m\n\u001b[1;32m      1\u001b[0m \u001b[0mx\u001b[0m \u001b[0;34m=\u001b[0m \u001b[0;34m(\u001b[0m\u001b[0;36m5\u001b[0m\u001b[0;34m,\u001b[0m \u001b[0;34m'program'\u001b[0m\u001b[0;34m,\u001b[0m \u001b[0;36m1\u001b[0m\u001b[0;34m+\u001b[0m\u001b[0;36m3j\u001b[0m\u001b[0;34m)\u001b[0m\u001b[0;34m\u001b[0m\u001b[0;34m\u001b[0m\u001b[0m\n\u001b[1;32m      2\u001b[0m \u001b[0;34m\u001b[0m\u001b[0m\n\u001b[0;32m----> 3\u001b[0;31m \u001b[0mx\u001b[0m\u001b[0;34m[\u001b[0m\u001b[0;36m1\u001b[0m\u001b[0;34m]\u001b[0m \u001b[0;34m=\u001b[0m \u001b[0;34m'Polibatam'\u001b[0m\u001b[0;34m\u001b[0m\u001b[0;34m\u001b[0m\u001b[0m\n\u001b[0m\u001b[1;32m      4\u001b[0m \u001b[0;34m\u001b[0m\u001b[0m\n",
            "\u001b[0;31mTypeError\u001b[0m: 'tuple' object does not support item assignment"
          ]
        }
      ],
      "source": [
        "x = (5, 'program', 1+3j)\n",
        "\n",
        "x[1] = 'Polibatam'\n",
        "\n"
      ]
    },
    {
      "cell_type": "code",
      "execution_count": null,
      "metadata": {
        "colab": {
          "base_uri": "https://localhost:8080/"
        },
        "id": "1QJkigAbBQoA",
        "outputId": "8bbc20b7-7b0b-41df-9d84-c723df688493"
      },
      "outputs": [
        {
          "name": "stdout",
          "output_type": "stream",
          "text": [
            "23\n",
            "43\n",
            "15\n"
          ]
        }
      ],
      "source": [
        "# deklarasi variabel tuple numbers = (23, 43, 15, 34)\n",
        "\n",
        "# cara mengakses elemen dalam variabel tuple\n",
        "\n",
        "numbers = (23, 43, 15, 34)\n",
        "numbers [0] # 23\n",
        "\n",
        "numbers [1] # 43\n",
        "\n",
        "numbers [2] # 15\n",
        "\n",
        "#lakuan print lalu amati hasilnya\n",
        "\n",
        "print (numbers[0])\n",
        "print (numbers[1])\n",
        "print (numbers[2])"
      ]
    },
    {
      "cell_type": "code",
      "execution_count": null,
      "metadata": {
        "colab": {
          "base_uri": "https://localhost:8080/"
        },
        "id": "fE9HdUVBCT1x",
        "outputId": "62f177fe-7656-4c6d-eec6-cbb3e7349aba"
      },
      "outputs": [
        {
          "data": {
            "text/plain": [
              "{1, 4}"
            ]
          },
          "execution_count": 7,
          "metadata": {},
          "output_type": "execute_result"
        }
      ],
      "source": [
        "#deklarasi variabel set a dan b\n",
        "\n",
        "a= {1, 2, 3}\n",
        "\n",
        "b= {2, 3, 4}\n",
        "\n",
        "#operasi gabungan\n",
        "\n",
        "a.union(b)\n",
        "\n",
        "#{1, 2, 3, 4}\n",
        "\n",
        "# operasi irisan a.intersection(b)\n",
        "\n",
        "#{2,3}\n",
        "\n",
        "# operasi perbedaan\n",
        "\n",
        "a.symmetric_difference(b)\n",
        "\n",
        "#(1, 4)\n",
        "\n",
        "#lakukan print dan lihat hasilny"
      ]
    },
    {
      "cell_type": "code",
      "execution_count": null,
      "metadata": {
        "colab": {
          "base_uri": "https://localhost:8080/"
        },
        "id": "nf4eIaiuDJVv",
        "outputId": "b8fbccd0-99be-4c3f-8506-8711c6e32376"
      },
      "outputs": [
        {
          "name": "stdout",
          "output_type": "stream",
          "text": [
            "<class 'dict'>\n"
          ]
        }
      ],
      "source": [
        "x= { 'petrus randanu': 'Perseus Evans', 'age': 20, 'isMarried': False }\n",
        "\n",
        "print(type(x))\n",
        "\n"
      ]
    },
    {
      "cell_type": "code",
      "execution_count": null,
      "metadata": {
        "colab": {
          "base_uri": "https://localhost:8080/",
          "height": 176
        },
        "id": "aOSf_uuSDMav",
        "outputId": "308245c0-475d-4c88-b601-786ae01284e5"
      },
      "outputs": [
        {
          "ename": "KeyError",
          "evalue": "0",
          "output_type": "error",
          "traceback": [
            "\u001b[0;31m---------------------------------------------------------------------------\u001b[0m",
            "\u001b[0;31mKeyError\u001b[0m                                  Traceback (most recent call last)",
            "\u001b[0;32m/tmp/ipython-input-3538772989.py\u001b[0m in \u001b[0;36m<cell line: 0>\u001b[0;34m()\u001b[0m\n\u001b[1;32m      1\u001b[0m \u001b[0mx\u001b[0m\u001b[0;34m=\u001b[0m\u001b[0;34m{\u001b[0m \u001b[0;34m'petrus randanu'\u001b[0m\u001b[0;34m:\u001b[0m \u001b[0;34m'Perseus Evans'\u001b[0m\u001b[0;34m,\u001b[0m \u001b[0;34m'age'\u001b[0m\u001b[0;34m:\u001b[0m \u001b[0;36m20\u001b[0m\u001b[0;34m,\u001b[0m \u001b[0;34m'isMarried'\u001b[0m\u001b[0;34m:\u001b[0m \u001b[0;32mFalse\u001b[0m \u001b[0;34m}\u001b[0m\u001b[0;34m\u001b[0m\u001b[0;34m\u001b[0m\u001b[0m\n\u001b[1;32m      2\u001b[0m \u001b[0;34m\u001b[0m\u001b[0m\n\u001b[0;32m----> 3\u001b[0;31m \u001b[0mprint\u001b[0m\u001b[0;34m(\u001b[0m\u001b[0mx\u001b[0m\u001b[0;34m[\u001b[0m\u001b[0;36m0\u001b[0m\u001b[0;34m]\u001b[0m\u001b[0;34m)\u001b[0m\u001b[0;34m\u001b[0m\u001b[0;34m\u001b[0m\u001b[0m\n\u001b[0m",
            "\u001b[0;31mKeyError\u001b[0m: 0"
          ]
        }
      ],
      "source": [
        "x={ 'petrus randanu': 'Perseus Evans', 'age': 20, 'isMarried': False }\n",
        "\n",
        "print(x[0])"
      ]
    },
    {
      "cell_type": "code",
      "execution_count": null,
      "metadata": {
        "colab": {
          "base_uri": "https://localhost:8080/"
        },
        "id": "Z-fa16ybDnLd",
        "outputId": "f529e5dd-bf8e-4543-c9d3-2bb0a07cc673"
      },
      "outputs": [
        {
          "name": "stdout",
          "output_type": "stream",
          "text": [
            "Perseus Evans\n"
          ]
        }
      ],
      "source": [
        "x = { 'petrus randanu': 'Perseus Evans', 'age': 20, 'isMarried': False }\n",
        "\n",
        "print(x ['petrus randanu'])\n"
      ]
    },
    {
      "cell_type": "code",
      "execution_count": null,
      "metadata": {
        "colab": {
          "base_uri": "https://localhost:8080/"
        },
        "id": "Tma5fx_aELys",
        "outputId": "27498529-537e-4186-e2ff-d15b93472865"
      },
      "outputs": [
        {
          "name": "stdout",
          "output_type": "stream",
          "text": [
            "{'petrus randanu': 'Perseus Evans', 'age': 20, 'isMarried': False, 'Job': 'engineering'}\n"
          ]
        }
      ],
      "source": [
        "x = { 'petrus randanu': 'Perseus Evans', 'age': 20, 'isMarried': False }\n",
        "x['Job'] = \"engineering\"\n",
        "\n",
        "print(x)"
      ]
    },
    {
      "cell_type": "code",
      "execution_count": null,
      "metadata": {
        "colab": {
          "base_uri": "https://localhost:8080/"
        },
        "id": "DMnhagRmFXXH",
        "outputId": "d6a2b8f5-5694-42b5-95a0-5a435ce518d9"
      },
      "outputs": [
        {
          "name": "stdout",
          "output_type": "stream",
          "text": [
            "{'petrus randanu': 'Perseus Evans', 'age': 20}\n"
          ]
        }
      ],
      "source": [
        "x = { 'petrus randanu': 'Perseus Evans', 'age': 20, 'isMarried': False }\n",
        "del x['isMarried']\n",
        "\n",
        "print(x)"
      ]
    },
    {
      "cell_type": "code",
      "execution_count": null,
      "metadata": {
        "colab": {
          "base_uri": "https://localhost:8080/"
        },
        "id": "iOgc7gsAFn0o",
        "outputId": "c017e3f5-fbe8-4f46-d5fc-af833ff234a3"
      },
      "outputs": [
        {
          "name": "stdout",
          "output_type": "stream",
          "text": [
            "{'petrus randanu': 'Exvan', 'age': 20, 'isMarried': False}\n"
          ]
        }
      ],
      "source": [
        "x = { 'petrus randanu': 'Perseus Evans', 'age': 20, 'isMarried': False }\n",
        "\n",
        "x ['petrus randanu'] = \"Exvan\"\n",
        "\n",
        "print(x)\n"
      ]
    },
    {
      "cell_type": "code",
      "execution_count": null,
      "metadata": {
        "colab": {
          "base_uri": "https://localhost:8080/"
        },
        "id": "HXR8ZoLZGfgZ",
        "outputId": "75f5e942-d1f5-4601-b756-c20ca8235f74"
      },
      "outputs": [
        {
          "data": {
            "text/plain": [
              "False"
            ]
          },
          "execution_count": 21,
          "metadata": {},
          "output_type": "execute_result"
        }
      ],
      "source": [
        "#deklarasi variabel dictionary\n",
        "\n",
        "propertyDetail = {\"numFloors\": 1, \"propertyType\": \"Rumah\", \"hasTerrace\": True, \"hasGarage\": False}\n",
        "\n",
        "#cara mengakses elemen dalam variabel dictionary\n",
        "\n",
        "propertyDetail [\"numFloors\"] #1\n",
        "\n",
        "propertyDetail [\"propertyType\"]\n",
        "\n",
        "#Rumah\n",
        "\n",
        "propertyDetail [\"hasTerrace\"]\n",
        "\n",
        "# True\n",
        "\n",
        "propertyDetail[\"hasGarage\"]\n",
        "\n",
        "#False\n",
        "\n",
        "#cara mengubah nilai elemen dalam variabel dictionary\n",
        "\n",
        "propertyDetail[\"hasTerrace\"] = False\n",
        "\n",
        "propertyDetail [\"hasTerrace\"]\n",
        "\n",
        "#False\n",
        "\n",
        "#print(property Detail [\"propertyType\"])\n",
        "\n",
        "#lakuan print lalu amati hasilny"
      ]
    },
    {
      "cell_type": "code",
      "execution_count": null,
      "metadata": {
        "id": "2zfHWkIVHcXI"
      },
      "outputs": [],
      "source": []
    }
  ],
  "metadata": {
    "colab": {
      "provenance": [],
      "authorship_tag": "ABX9TyNyzK4Cyc+VolUf0UYt4a6U",
      "include_colab_link": true
    },
    "kernelspec": {
      "display_name": "Python 3",
      "name": "python3"
    },
    "language_info": {
      "name": "python"
    }
  },
  "nbformat": 4,
  "nbformat_minor": 0
}
