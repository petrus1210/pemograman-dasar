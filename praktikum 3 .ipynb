{
  "nbformat": 4,
  "nbformat_minor": 0,
  "metadata": {
    "colab": {
      "provenance": [],
      "authorship_tag": "ABX9TyNIbzZ9ELQ0lPq81H7AqErE",
      "include_colab_link": true
    },
    "kernelspec": {
      "name": "python3",
      "display_name": "Python 3"
    },
    "language_info": {
      "name": "python"
    }
  },
  "cells": [
    {
      "cell_type": "markdown",
      "metadata": {
        "id": "view-in-github",
        "colab_type": "text"
      },
      "source": [
        "<a href=\"https://colab.research.google.com/github/petrus1210/pemograman-dasar/blob/main/praktikum%203%20.ipynb\" target=\"_parent\"><img src=\"https://colab.research.google.com/assets/colab-badge.svg\" alt=\"Open In Colab\"/></a>"
      ]
    },
    {
      "cell_type": "code",
      "source": [
        "total = input(\"berapa kali kamu makan dalam sehari? :\")\n",
        "nama = input (\"siapa nama pelanggan? \")"
      ],
      "metadata": {
        "colab": {
          "base_uri": "https://localhost:8080/"
        },
        "id": "lx47kIPpgeVm",
        "outputId": "9f4c3a78-5f5b-4e25-8b68-ac1c709ac6a0"
      },
      "execution_count": 4,
      "outputs": [
        {
          "name": "stdout",
          "output_type": "stream",
          "text": [
            "berapa kali kamu makan dalam sehari? :3\n",
            "siapa nama pelanggan? petrus\n"
          ]
        }
      ]
    },
    {
      "cell_type": "code",
      "source": [
        "otal = int (input(\"berapa kali kamu makan dalam sehari? :\"))\n",
        "nama = str (input(\"siapa nama pelanggan?:\"))"
      ],
      "metadata": {
        "colab": {
          "base_uri": "https://localhost:8080/"
        },
        "id": "Hc1ye0Kvg4mc",
        "outputId": "0abab509-77dc-4865-8fcb-9eedc228d0b0"
      },
      "execution_count": 5,
      "outputs": [
        {
          "name": "stdout",
          "output_type": "stream",
          "text": [
            "berapa kali kamu makan dalam sehari? :3\n",
            "siapa nama pelanggan?:petrus\n"
          ]
        }
      ]
    },
    {
      "cell_type": "code",
      "source": [
        "food = \"mie aceh\"\n",
        "print(\"petrus sedang memesan\",food)"
      ],
      "metadata": {
        "colab": {
          "base_uri": "https://localhost:8080/"
        },
        "id": "UZpCifJ3hI8C",
        "outputId": "db61fd1e-352f-4971-de16-751db60ef339"
      },
      "execution_count": 6,
      "outputs": [
        {
          "output_type": "stream",
          "name": "stdout",
          "text": [
            "petrus sedang memesan mie aceh\n"
          ]
        }
      ]
    },
    {
      "cell_type": "code",
      "source": [
        "food = \"mie aceh \"\n",
        "print(\"petrus sedang memesan\", food)\n",
        "print (\"petrus sedang memesan\"+ food)\n",
        "print (\"petrus sedang memesan %s\"% (food))"
      ],
      "metadata": {
        "colab": {
          "base_uri": "https://localhost:8080/"
        },
        "id": "yI8FVfN5hhYW",
        "outputId": "7897a6d9-c924-4ee3-cbdc-55ac207d465f"
      },
      "execution_count": 7,
      "outputs": [
        {
          "output_type": "stream",
          "name": "stdout",
          "text": [
            "petrus sedang memesan mie aceh \n",
            "petrus sedang memesanmie aceh \n",
            "petrus sedang memesan mie aceh \n"
          ]
        }
      ]
    },
    {
      "cell_type": "code",
      "source": [
        "a = 26\n",
        "b = 2\n",
        "print(\"penjumlahan:\",a+b )\n",
        "print(\"pengurangan:\",a-b)\n",
        "print(\"perkalian:\",a*b)\n",
        "print(\"pembagian:\",a/b)"
      ],
      "metadata": {
        "colab": {
          "base_uri": "https://localhost:8080/"
        },
        "id": "8tHuISjEiHk9",
        "outputId": "70c88577-af42-4793-d0c2-4b22d28ebb91"
      },
      "execution_count": 8,
      "outputs": [
        {
          "output_type": "stream",
          "name": "stdout",
          "text": [
            "penjumlahan: 28\n",
            "pengurangan: 24\n",
            "perkalian: 52\n",
            "pembagian: 13.0\n"
          ]
        }
      ]
    },
    {
      "cell_type": "code",
      "source": [
        "bilangan = 12\n",
        "hasil =(bilangan > 0) and (bilangan % 2 ==0)\n",
        "print (\"genap dan positif?\",hasil)\n",
        ""
      ],
      "metadata": {
        "colab": {
          "base_uri": "https://localhost:8080/"
        },
        "id": "33jk6sp4jWZ0",
        "outputId": "d06da331-6225-4903-cda2-b7cd9a5be00c"
      },
      "execution_count": 9,
      "outputs": [
        {
          "output_type": "stream",
          "name": "stdout",
          "text": [
            "genap dan positif? True\n"
          ]
        }
      ]
    },
    {
      "cell_type": "code",
      "source": [
        "harga_makan= int (input(\"berapa harga mie goreng per porsi?\"))\n",
        "jumlah_makan= int (input(\"berapa porsi yang anda beli?\"))\n",
        "total_makan=harga_makan*jumlah_makan\n",
        "\n",
        "print(f\"harga makan per porsi ={harga_makan};totalnya adalah {total_makan}\")\n",
        ""
      ],
      "metadata": {
        "colab": {
          "base_uri": "https://localhost:8080/"
        },
        "id": "myzzzhDnjw4W",
        "outputId": "f5ddb9f5-d6c3-452d-f053-68be57810a3a"
      },
      "execution_count": 10,
      "outputs": [
        {
          "output_type": "stream",
          "name": "stdout",
          "text": [
            "berapa harga mie goreng per porsi?18000\n",
            "berapa porsi yang anda beli?4\n",
            "harga makan per porsi =18000;totalnya adalah 72000\n"
          ]
        }
      ]
    },
    {
      "cell_type": "code",
      "source": [
        "#konversi waktu\n",
        "total_detik= 3600\n",
        "jam = total_detik//3600\n",
        "sisa_detik = total_detik%3600\n",
        "menit = sisa_detik//6\n",
        "detik = sisa_detik%60\n",
        "print(f\"hasil konversi:{jam}jam, {menit}menit,{detik}detik\")\n",
        ""
      ],
      "metadata": {
        "colab": {
          "base_uri": "https://localhost:8080/"
        },
        "id": "kPnIH7R_j4D5",
        "outputId": "c8d30896-be91-4bcc-8f10-a0d1cf59fa5b"
      },
      "execution_count": 13,
      "outputs": [
        {
          "output_type": "stream",
          "name": "stdout",
          "text": [
            "hasil konversi:1jam, 0menit,0detik\n"
          ]
        }
      ]
    },
    {
      "cell_type": "code",
      "source": [
        "tugas = 80\n",
        "uts = 85\n",
        "uas =90\n",
        "nilai_akhir =(0.3*tugas )+(0.3*uts)+(0.3*uas)\n",
        "print(\"nilai akhir=\",nilai_akhir)"
      ],
      "metadata": {
        "colab": {
          "base_uri": "https://localhost:8080/"
        },
        "id": "-090tF_tkQaG",
        "outputId": "3bf563e9-501b-4508-d14f-733128e4cb49"
      },
      "execution_count": 14,
      "outputs": [
        {
          "output_type": "stream",
          "name": "stdout",
          "text": [
            "nilai akhir= 76.5\n"
          ]
        }
      ]
    },
    {
      "cell_type": "code",
      "source": [
        "nilai_mahasiswa = 95\n",
        "standar_kelulusan = 75\n",
        "apakah_lulus = nilai_mahasiswa >= standar_kelulusan\n",
        "perlu_remedial = nilai_mahasiswa < standar_kelulusan\n",
        "print (f\"nilai mahasiswa :{nilai_mahasiswa}\")\n",
        "print (f\"standar kelulusan:{standar_kelulusan}\")\n",
        "print (f\"apakah mahasiswa lulus?{apakah_lulus}\")\n",
        "print (f\"perlu remedial? {perlu_remedial}\")\n",
        ""
      ],
      "metadata": {
        "colab": {
          "base_uri": "https://localhost:8080/"
        },
        "id": "PC0ioPG8kenV",
        "outputId": "2d51c3c3-1a82-451a-e7e5-47da98aae04c"
      },
      "execution_count": 15,
      "outputs": [
        {
          "output_type": "stream",
          "name": "stdout",
          "text": [
            "nilai mahasiswa :95\n",
            "standar kelulusan:75\n",
            "apakah mahasiswa lulus?True\n",
            "perlu remedial? False\n"
          ]
        }
      ]
    },
    {
      "cell_type": "code",
      "source": [
        "belanja = 1200000\n",
        "diskon = (0,0.5*belanja)[belanja>500000]\n",
        "total_harga = belanja - diskon\n",
        "print (\"total harga setelah diskon =\", total_harga)"
      ],
      "metadata": {
        "colab": {
          "base_uri": "https://localhost:8080/"
        },
        "id": "06zOO_nfks3i",
        "outputId": "d42c574f-2d79-4bcc-ae22-d28ef81036f7"
      },
      "execution_count": 16,
      "outputs": [
        {
          "output_type": "stream",
          "name": "stdout",
          "text": [
            "total harga setelah diskon = 600000.0\n"
          ]
        }
      ]
    }
  ]
}